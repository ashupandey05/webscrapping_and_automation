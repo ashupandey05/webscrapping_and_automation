{
 "cells": [
  {
   "cell_type": "code",
   "execution_count": 1,
   "id": "abd62553",
   "metadata": {},
   "outputs": [],
   "source": [
    "from selenium import webdriver\n",
    "from selenium.webdriver.common.by import By\n",
    "from selenium.webdriver.chrome.service import Service\n",
    "from webdriver_manager.chrome import ChromeDriverManager\n",
    "option = webdriver.ChromeOptions()\n",
    "option.add_argument(\"start-maximized\")\n",
    "driver = webdriver.Chrome(service=Service(ChromeDriverManager().install()),options=option)\n",
    "#opening the instagram \n",
    "driver.get('https://www.instagram.com/')\n",
    "import time\n",
    "import numpy as np\n",
    "import pandas as pd\n",
    "import matplotlib.pyplot as plt\n",
    "from selenium.webdriver.support.ui import WebDriverWait\n",
    "from selenium.webdriver.support import expected_conditions as EC\n",
    "from datetime import datetime\n",
    "from selenium.common.exceptions import TimeoutException"
   ]
  },
  {
   "cell_type": "code",
   "execution_count": 2,
   "id": "67e96f34",
   "metadata": {},
   "outputs": [],
   "source": [
    "#Login to ur account using your username and password\n",
    "#locating username textbox and sending username\n",
    "username=driver.find_element(By.NAME,'username')\n",
    "username.send_keys('SAMPLE_USERNAME')\n",
    "#locating password textbox and sending password\n",
    "password=driver.find_element(By.NAME,'password')\n",
    "password.send_keys('SAMPLE_PASSWORD')\n",
    "#submiting the login information\n",
    "password.submit()"
   ]
  },
  {
   "cell_type": "markdown",
   "id": "02ddea39",
   "metadata": {},
   "source": [
    "## 1.Now your friend has followed a lot of different food bloggers, he needs to analyse the habits of these bloggers.\n"
   ]
  },
  {
   "cell_type": "markdown",
   "id": "262c0f04",
   "metadata": {},
   "source": [
    "## 2.From the list of instagram handles you obtained when you searched ‘food’ in previous project. Open the first 10 handles and find the top 5 which have the highest number of followers. "
   ]
  },
  {
   "cell_type": "markdown",
   "id": "3c2cc165",
   "metadata": {},
   "source": [
    "## 3.Now Find the number of posts these handles have done in the previous 3 days. Depict this information using a suitable graph."
   ]
  },
  {
   "cell_type": "code",
   "execution_count": 50,
   "id": "654f0f37",
   "metadata": {},
   "outputs": [],
   "source": [
    "#locating search box option  \n",
    "info=driver.find_elements(By.TAG_NAME,\"svg\")\n",
    "search_btn=info[2]\n",
    "#clicking he search box\n",
    "search_btn.click()\n",
    "time.sleep(3)\n",
    "#locating textbox \n",
    "input_tag= driver.find_element(By.TAG_NAME,\"input\")\n",
    "#sending the food text to the textbox\n",
    "input_tag.send_keys('food')\n",
    "time.sleep(2)\n",
    "i=0\n",
    "#locating the usernames from the searched result\n",
    "handles=driver.find_elements(By.XPATH,\"//div[starts-with(@class,'x9f619')]/a\")\n",
    "#an empty list to store the profile links of first 10 usernames extracted\n",
    "links=[]\n",
    "for handle in handles[:10]:\n",
    "    #extract the profile link from 'href' attribute of a tag\n",
    "    links.append(handle.get_attribute('href'))"
   ]
  },
  {
   "cell_type": "code",
   "execution_count": 51,
   "id": "9aa5c816",
   "metadata": {},
   "outputs": [],
   "source": [
    "#an empty list to store the followers of the usernames\n",
    "followers=[]\n",
    "#dictionary used to put usernames and their followers as key-value pairs\n",
    "d={}\n",
    "for link in links:\n",
    "    #this will open the link of profile of each user\n",
    "    driver.get(link)\n",
    "    time.sleep(5)\n",
    "    #locating followers of user\n",
    "    follower=driver.find_elements(By.CLASS_NAME,'_ac2a')\n",
    "    number=(follower[1].get_attribute('title'))\n",
    "    #to add followers to the list by replacing , and converting it to int \n",
    "    followers.append(int(number.replace(\",\",\"\")))\n",
    "    time.sleep(2)\n",
    "    driver.back()"
   ]
  },
  {
   "cell_type": "code",
   "execution_count": 12,
   "id": "057d0aca",
   "metadata": {},
   "outputs": [
    {
     "name": "stdout",
     "output_type": "stream",
     "text": [
      "['https://www.instagram.com/yourfoodlab/', 'https://www.instagram.com/dilsefoodie/', 'https://www.instagram.com/food_founder_/', 'https://www.instagram.com/foodtalkindia/', 'https://www.instagram.com/food_lunatic/']\n"
     ]
    }
   ],
   "source": [
    "#to add links-followers to dictionary\n",
    "for i in range(10):\n",
    "    d[links[i]]=followers[i]\n",
    "#print(d)\n",
    "#to sort the dictionary according to followers in descending order\n",
    "sorted_dict = dict(sorted(d.items(), key=lambda item: item[1], reverse=True))\n",
    "#print(sorted_dict)\n",
    "count = 0\n",
    "top_5={}\n",
    "#to extract top 5 usernames with most follower and adding them to top_5 \n",
    "for key, value in sorted_dict.items():\n",
    "    top_5[key] = value\n",
    "    count += 1\n",
    "    if count >= 5:\n",
    "        break\n",
    "#print(top_5) \n",
    "#to get the insta url of top 5\n",
    "top_5_handles=list(top_5.keys())\n",
    "print(top_5_handles)"
   ]
  },
  {
   "cell_type": "code",
   "execution_count": 39,
   "id": "4e630a18",
   "metadata": {},
   "outputs": [
    {
     "name": "stdout",
     "output_type": "stream",
     "text": [
      "2023-10-18 15:38:40\n",
      "2023-10-18 13:09:26\n",
      "2023-10-17 09:24:00\n",
      "2023-10-19 09:40:09\n",
      "2023-10-18 14:50:06\n",
      "2023-10-18 07:53:40\n",
      "2023-10-17 15:46:31\n",
      "2023-10-17 10:42:36\n",
      "2023-10-16 05:14:45\n",
      "2023-10-19 14:58:14\n",
      "2023-10-18 12:09:13\n",
      "2023-10-17 10:24:44\n",
      "2023-10-16 12:09:58\n",
      "2023-10-19 06:32:57\n",
      "2023-10-18 09:54:53\n",
      "2023-10-17 12:49:24\n",
      "2023-10-17 06:41:34\n",
      "2023-10-17 05:11:13\n",
      "2023-10-16 10:28:13\n",
      "2023-10-16 06:32:20\n",
      "2023-10-19 15:16:50\n",
      "2023-10-18 11:33:16\n",
      "2023-10-17 14:49:01\n",
      "2023-10-16 11:30:54\n",
      "2023-10-17 18:48:41\n",
      "2023-10-17 18:49:07\n"
     ]
    }
   ],
   "source": [
    "#count list to store the number of posts done in previous 3 days of top 5 users\n",
    "count_list=[0,0,0,0,0]\n",
    "j=0\n",
    "#run loop over top 5 handles\n",
    "for handle in top_5_handles:\n",
    "    #open the profile of the user\n",
    "    driver.get(handle)\n",
    "    time.sleep(3)\n",
    "    #scrolling to get the appropriate posts on screen\n",
    "    driver.execute_script('window.scrollBy(0, 2000);')\n",
    "    time.sleep(2)\n",
    "    #to locate the posts\n",
    "    posts = driver.find_elements(By.XPATH, '//article[@class = \"x1iyjqo2\"]/div/div/div/div/a')  \n",
    "    #time.sleep(2)\n",
    "    #to iterate over all posts to find the posts done in previous 3 days\n",
    "    for i in range(len(posts)):\n",
    "        time.sleep(2)\n",
    "        #click on the post\n",
    "        posts[i].click()\n",
    "        time.sleep(3)\n",
    "        wait = WebDriverWait(driver, 10)\n",
    "        #locate the time tag of the post\n",
    "        post_time = wait.until(EC.presence_of_element_located((By.TAG_NAME, 'time')))\n",
    "        #to get the datetime of the post from the attribute datetime\n",
    "        date_string=post_time.get_attribute('datetime')\n",
    "        #converting into date format\n",
    "        date = datetime.strptime(date_string[0:19], \"%Y-%m-%dT%H:%M:%S\")\n",
    "        #taking deifference between today's date and the posted date of post\n",
    "        #if it is less than or equal to 3,then increase the count in count_list\n",
    "        if (datetime.now() - date).days <= 3 :\n",
    "            print(date)\n",
    "            count_list[j]+=1\n",
    "        # checking for other users  \n",
    "        driver.back()\n",
    "    time.sleep(3)\n",
    "    j+=1\n",
    "    #driver.back()"
   ]
  },
  {
   "cell_type": "code",
   "execution_count": 14,
   "id": "f8e5d04a",
   "metadata": {},
   "outputs": [],
   "source": [
    "#number of posts these handles have done in the previous 3 days"
   ]
  },
  {
   "cell_type": "code",
   "execution_count": 40,
   "id": "44ccb84c",
   "metadata": {},
   "outputs": [
    {
     "name": "stdout",
     "output_type": "stream",
     "text": [
      "[3, 6, 4, 7, 6]\n"
     ]
    }
   ],
   "source": [
    "print(count_list)"
   ]
  },
  {
   "cell_type": "code",
   "execution_count": 47,
   "id": "b67f2dcb",
   "metadata": {},
   "outputs": [
    {
     "data": {
      "image/png": "[encoded data removed]",
      "text/plain": [
       "<Figure size 640x480 with 1 Axes>"
      ]
     },
     "metadata": {},
     "output_type": "display_data"
    }
   ],
   "source": [
    "#to plot bar graph of the above info obtained\n",
    "#top 5 usernames as obtained above\n",
    "usernames=['yourfoodlab','dilsefoodie','food_founder_','foodtalkindia','food_lunatic']\n",
    "bar_colors = ['tab:red', 'tab:blue', 'tab:orange', 'tab:green','tab:red']\n",
    "plt.bar(usernames,count_list,color=bar_colors)\n",
    "plt.xlabel('Usernames')\n",
    "plt.ylabel('No of posts in previous 3 days')\n",
    "plt.grid()\n",
    "plt.show()"
   ]
  },
  {
   "cell_type": "markdown",
   "id": "0733888f",
   "metadata": {},
   "source": [
    "## 4.Your friend also needs a list of hashtags that he should use in his posts."
   ]
  },
  {
   "cell_type": "markdown",
   "id": "66dfc411",
   "metadata": {},
   "source": [
    "## 5.Open the 5 handles you obtained in the last question, and scrape the content of the first 10 posts of each handle."
   ]
  },
  {
   "cell_type": "markdown",
   "id": "8e3fc218",
   "metadata": {},
   "source": [
    "## 6.Prepare a list of all words used in all the scraped posts and calculate the frequency of each word."
   ]
  },
  {
   "cell_type": "markdown",
   "id": "abcfb52f",
   "metadata": {},
   "source": [
    "## 7.Create a csv file with two columns : the word and its frequency"
   ]
  },
  {
   "cell_type": "markdown",
   "id": "72b603da",
   "metadata": {},
   "source": [
    "## 8.Now, find the hashtags that were most popular among these bloggers"
   ]
  },
  {
   "cell_type": "markdown",
   "id": "bb61d0be",
   "metadata": {},
   "source": [
    "## 9.Plot a Pie Chart of the top 5 hashtags obtained and the number of times they were used by these bloggers in the scraped posts."
   ]
  },
  {
   "cell_type": "code",
   "execution_count": 103,
   "id": "4ee617b7",
   "metadata": {},
   "outputs": [
    {
     "name": "stdout",
     "output_type": "stream",
     "text": [
      "['@yflhome', '#yflhome', '#yourfoodlab', '#sanjyotkeer', '#handmadeinindia', '#madeinindia', '#ecofriendlygifts', '#festivalgifts', '#giftsformom', '#festivalvibes', '#brasskitchen', '#sustainabledesign', '#kitchenwares', '#brassware', '#indianhomes', '#masala', '#masalabox', '#box', '#masalaboxes', '#brassmasalabox', '@officialjiocinema', '@sanjyotkeer', '#JioCinemaFilmFest', '#JioCinema', '@a_kshaypatil', '@sanjyotkeer', '@manastakle', '@fokuscreations', '@shree.koli97', '@hemant_photograph', '@dilpreetghai', '@nishamydeo', '@mane_durva', '@suraj_panse', '@pranu4488', '@raghav_mallya_17', '@ainvayi_amish', '#iccworldcup2023', '#indvspak', '#ThumsUpBiryaniHunt', '#ThumsUpToofaniBiryaniHunt', '#ToofaniBiryaniCombo', '#GetToofani', '#PaidPartnership', '#dilsefoodie', '#food', '#chai', '#lovers', '#dilsefoodie', '#food', '#dilsecouple', '#chaap', '#malaichaap', '#veg', '#dilsefoodie', '#food', '#navratra', '#veg', '#dilsefoodie', '#food', '#dryfruits', '#thukraldihatti', '#dilsefoodie', '#family', '#birthday', '#celebration', '@agraholidayinn', '#dilsefoodie', '#food', '#staycation', '#agra', '#tajmahal', '#dilsefoodie', '#food', '#breakfast', '#foodfood', '@agraeaters', '#dilsefoodie', '#food', '#streetfood', '#cholekulche', '@agraholidayinn', '#dilsefoodie', '#rajasthani', '#food', '#thali', '#agra', '@kapoorschaatbhandaar', '@shreekcmessarpitkapoor', '#dilsefoodie', '#idli', '#food', '#sambar', '#bangalore', '#cook', '#cooking', '#dessert', '#eat', '#food', '#foodblog', '#foodblogger', '#foodbloggers', '#foodcoma', '#foodforfoodies', '#foodforthought', '#foodgasm', '#foodies', '#foodiesofinstagram', '#foodism', '#foodlove', '#foodlover', '#foodlovers', '#foodnetwork', '#foodofinstagram', '#foodoftheday', '#foodphoto', '#foodpic', '#foodpics', '#foodpost', '#foods', '#foodstyling', '#restaurant', '#tasty', '#yum', '#cook', '#cooking', '#dessert', '#eat', '#food', '#foodblog', '#foodblogger', '#foodbloggers', '#foodcoma', '#foodforfoodies', '#foodforthought', '#foodgasm', '#foodies', '#foodiesofinstagram', '#foodism', '#foodlove', '#foodlover', '#foodlovers', '#foodnetwork', '#foodofinstagram', '#foodoftheday', '#foodphoto', '#foodpic', '#foodpics', '#foodpost', '#foods', '#foodstyling', '#restaurant', '#tasty', '#yum', '#cook', '#cooking', '#dessert', '#eat', '#food', '#foodblog', '#foodblogger', '#foodbloggers', '#foodcoma', '#foodforfoodies', '#foodforthought', '#foodgasm', '#foodies', '#foodiesofinstagram', '#foodism', '#foodlove', '#foodlover', '#foodlovers', '#foodnetwork', '#foodofinstagram', '#foodoftheday', '#foodphoto', '#foodpic', '#foodpics', '#foodpost', '#foods', '#foodstyling', '#restaurant', '#tasty', '#yum', '#cook', '#cooking', '#dessert', '#eat', '#food', '#foodblog', '#foodblogger', '#foodbloggers', '#foodcoma', '#foodforfoodies', '#foodforthought', '#foodgasm', '#foodies', '#foodiesofinstagram', '#foodism', '#foodlove', '#foodlover', '#foodlovers', '#foodnetwork', '#foodofinstagram', '#foodoftheday', '#foodphoto', '#foodpic', '#foodpics', '#foodpost', '#foods', '#foodstyling', '#restaurant', '#tasty', '#yum', '#cook', '#cooking', '#dessert', '#eat', '#food', '#foodblog', '#foodblogger', '#foodbloggers', '#foodcoma', '#foodforfoodies', '#foodforthought', '#foodgasm', '#foodies', '#foodiesofinstagram', '#foodism', '#foodlove', '#foodlover', '#foodlovers', '#foodnetwork', '#foodofinstagram', '#foodoftheday', '#foodphoto', '#foodpic', '#foodpics', '#foodpost', '#foods', '#foodstyling', '#restaurant', '#tasty', '#yum', '#cook', '#cooking', '#dessert', '#eat', '#food', '#foodblog', '#foodblogger', '#foodbloggers', '#foodcoma', '#foodforfoodies', '#foodforthought', '#foodgasm', '#foodies', '#foodiesofinstagram', '#foodism', '#foodlove', '#foodlover', '#foodlovers', '#foodnetwork', '#foodofinstagram', '#foodoftheday', '#foodphoto', '#foodpic', '#foodpics', '#foodpost', '#foods', '#foodstyling', '#restaurant', '#tasty', '#yum', '#cook', '#cooking', '#dessert', '#eat', '#food', '#foodblog', '#foodblogger', '#foodbloggers', '#foodcoma', '#foodforfoodies', '#foodforthought', '#foodgasm', '#foodies', '#foodiesofinstagram', '#foodism', '#foodlove', '#foodlover', '#foodlovers', '#foodnetwork', '#foodofinstagram', '#foodoftheday', '#foodphoto', '#foodpic', '#foodpics', '#foodpost', '#foods', '#foodstyling', '#restaurant', '#tasty', '#yum', '#cook', '#cooking', '#dessert', '#eat', '#food', '#foodblog', '#foodblogger', '#foodbloggers', '#foodcoma', '#foodforfoodies', '#foodforthought', '#foodgasm', '#foodies', '#foodiesofinstagram', '#foodism', '#foodlove', '#foodlover', '#foodlovers', '#foodnetwork', '#foodofinstagram', '#foodoftheday', '#foodphoto', '#foodpic', '#foodpics', '#foodpost', '#foods', '#foodstyling', '#restaurant', '#tasty', '#yum', '#cook', '#cooking', '#eat', '#food', '#foodblog', '#foodblogger', '#foodbloggers', '#foodcoma', '#foodforfoodies', '#foodforthought', '#foodgasm', '#foodies', '#foodiesofinstagram', '#foodism', '#foodlove', '#foodlover', '#foodlovers', '#foodnetwork', '#foodofinstagram', '#foodoftheday', '#foodphoto', '#foodpic', '#foodpics', '#foodpost', '#foods', '#foodstyling', '#lunch', '#restaurant', '#tasty', '#yum', '#Stirred', '#Stirred', '@chambalgin', '#Stirred', '#GrazingPlatters', '#DelhiNCR', '#Indulgence', '#PartyPlatters', '#PartyPlanning', '#BaileysDesserts', '#DelhiNCRDelights', '#Desserts', '#SweetCraving', '#FestiveTreat', '#TopItWithUpBaileys', '#IndulgeInBaileys', '#GourmetDesserts', '#BaileysInDelhiNCR', '#DessertHeaven', '#BaileysSweets', '#DessertMagic', '#BaileysDelightfulTreats', '#TanquerayMalacca', '#TanquerayRangpur', '#ginexplorersclub', '#NewInTown', '#BombayEats', '#BandraBorn', '#DiningAtBombay', '#NavratriThalis', '#FestiveFeast', '#NavratriFood', '#TraditionalCuisine', '#BlessingsAndFlavors', '#GoaDiaries', '#GoaUnveiled', '#GoaWithAnjali', '#UnlockTheExperience', '#recipe', '#Navratri', '#Navratri2023', '#Foodoftheday', '#Tasty', '#Fast', '#Photooftheday', '#Sabudana', '#Fasting', '#weddingseason', '#funny', '#relatable', '#weddings', '#foodie', '#whatiwore', '#relatablememes', '#whatiwore', '#ootd', '#ethnic', '#black', '#delhi', '#blacksuit', '#photooftheday', '#CelebrityRecipes', '#cheese', '#cheesy', '#cheesynachos', '#janhvikapoor', '#tasty', '#recipe', '#recipevideo', '#recipe', '#recipevideo', '#tasty', '#kiaraadvani', '#bollywood', '#healthy', '#preworkoutmeal', '#foodspread', '#weekend', '#foodoftheday', '#tasty', '#foodie', '#delhi', '#exploredelhi', '#cheese', '#cheesy', '#momos', '#weekendvibes', '#funny', '#funnyreels', '#indiavspakistan', '#cricketworldcup', '#indiavspak', '#worldcup2023', '#cricket', '#relatable', '#meme', '#funny', '#fun', '#foodie', '#tasty', '#explore', '#exploredelhi', '#delhifoodblogger', '#foodoftheday', '#pasta', '#whitesauce', '#noida', '#explorenoida', '#streetfood', '#tasty', '#alfredopasta', '#photooftheday', '#cheese', '#cheesy', '#ViralRecipes', '#viral', '#chai', '#recipe', '#recipevideo', '#hack', '#trending', '#chaivideo', '#viralrecipes', '@insp_rahulsingh', '#200K', '#InstaFam', '#Grateful', '#Blessed', '#Proud', '#Celebrations']\n"
     ]
    }
   ],
   "source": [
    "top_5_handles=['https://www.instagram.com/yourfoodlab/', 'https://www.instagram.com/dilsefoodie/', 'https://www.instagram.com/food_founder_/', 'https://www.instagram.com/foodtalkindia/', 'https://www.instagram.com/food_lunatic/']\n",
    "#to store all hashtags used in all posts of top 5 users\n",
    "all_hashtags=[]\n",
    "for handle in top_5_handles:\n",
    "    driver.get(handle)\n",
    "    time.sleep(3)\n",
    "    #scroll to get post\n",
    "    driver.execute_script('window.scrollBy(0, 2000);')\n",
    "    time.sleep(2)\n",
    "    #locating posts of the user\n",
    "    posts = driver.find_elements(By.XPATH, '//article[@class = \"x1iyjqo2\"]/div/div/div/div/a')\n",
    "    for i in range(10):\n",
    "        time.sleep(2)\n",
    "        posts[i].click()\n",
    "        #if post have used hashtags try this\n",
    "        try:\n",
    "            #locating the hashtags used in the post\n",
    "            hashtags= wait.until(EC.presence_of_all_elements_located((By.XPATH,\"//div[@class='_a9zs']/h1/a\")))\n",
    "            for hastag in hashtags:\n",
    "                #appending the post\n",
    "                all_hashtags.append(hastag.text)\n",
    "            time.sleep(2)\n",
    "            driver.back() \n",
    "        #if post has not used any hashtag,error will be used\n",
    "        except TimeoutException:\n",
    "            #move forward and check for other post\n",
    "            time.sleep(2)\n",
    "            driver.back()\n",
    "            continue        \n",
    "    time.sleep(2)\n",
    "print(all_hashtags)    "
   ]
  },
  {
   "cell_type": "code",
   "execution_count": 108,
   "id": "acbac38d",
   "metadata": {},
   "outputs": [],
   "source": [
    "#dictionary to store the hashtags ans their frequency\n",
    "d={}\n",
    "for hashtag in all_hashtags:\n",
    "    if hashtag in d:\n",
    "        d[hashtag] += 1\n",
    "    else:\n",
    "        d[hashtag] = 1\n",
    "#sort the dictionary in reverse order according to the frequency of hashtags        \n",
    "sorted_dict = dict(sorted(d.items(), key=lambda item: item[1], reverse=True))\n",
    "#word will store the hashtags\n",
    "word=list(sorted_dict.keys())\n",
    "#frequency will store the frequency of the hashtags\n",
    "frequency=list(sorted_dict.values())"
   ]
  },
  {
   "cell_type": "code",
   "execution_count": 107,
   "id": "51c635e7",
   "metadata": {},
   "outputs": [],
   "source": [
    "#to create csv file"
   ]
  },
  {
   "cell_type": "code",
   "execution_count": 110,
   "id": "b197194f",
   "metadata": {},
   "outputs": [],
   "source": [
    "#using .to_csv pandas function to convert dataframe to csv\n",
    "df=pd.DataFrame({'Hashtag':word,'Frequency': frequency})\n",
    "df.to_csv('hashtag.csv',index=False)"
   ]
  },
  {
   "cell_type": "code",
   "execution_count": 112,
   "id": "52cec82d",
   "metadata": {},
   "outputs": [
    {
     "name": "stdout",
     "output_type": "stream",
     "text": [
      "['#food', '#tasty', '#foodoftheday', '#dilsefoodie', '#cook']\n",
      "[18, 14, 11, 10, 9]\n"
     ]
    }
   ],
   "source": [
    "#to get top 5 hashtags\n",
    "count = 0\n",
    "top_5_hashtags={}\n",
    "for key, value in sorted_dict.items():\n",
    "    top_5_hashtags[key] = value\n",
    "    count += 1\n",
    "    if count >= 5:\n",
    "        break\n",
    "top_5_hashtag=list(top_5_hashtags.keys())\n",
    "top_5_frq=list(top_5_hashtags.values())\n",
    "print(top_5_hashtag)\n",
    "print(top_5_frq)"
   ]
  },
  {
   "cell_type": "code",
   "execution_count": 117,
   "id": "0949d93e",
   "metadata": {},
   "outputs": [
    {
     "data": {
      "image/png": "[encoded data removed]",
      "text/plain": [
       "<Figure size 640x480 with 1 Axes>"
      ]
     },
     "metadata": {},
     "output_type": "display_data"
    }
   ],
   "source": [
    "#to plot pie chart for above data\n",
    "plt.pie(top_5_frq,labels=top_5_hashtag,autopct=\"%.2f%%\")\n",
    "plt.title(\"Frequency of Top 5 hashtags\")\n",
    "plt.show()"
   ]
  },
  {
   "cell_type": "markdown",
   "id": "e6a75a26",
   "metadata": {},
   "source": [
    "## 10.You need to also calculate average followers : likes ratio for the obtained handles."
   ]
  },
  {
   "cell_type": "markdown",
   "id": "97843d96",
   "metadata": {},
   "source": [
    "## 11.Followers : Likes ratio is calculated as follows:"
   ]
  },
  {
   "cell_type": "markdown",
   "id": "15808d42",
   "metadata": {},
   "source": [
    "## 12.Find out the likes of the top 10 posts of the 5 handles obtained earlier."
   ]
  },
  {
   "cell_type": "markdown",
   "id": "f43d4f8b",
   "metadata": {},
   "source": [
    "## 13.Calculate the average likes for a handle."
   ]
  },
  {
   "cell_type": "markdown",
   "id": "b35fae01",
   "metadata": {},
   "source": [
    "## 14.Divide the average likes obtained from the number of followers of the handle to get the average followers:like ratio of each handle."
   ]
  },
  {
   "cell_type": "markdown",
   "id": "f8d75d5d",
   "metadata": {},
   "source": [
    "## 15.Create a bar graph to depict the above obtained information."
   ]
  },
  {
   "cell_type": "code",
   "execution_count": 16,
   "id": "a9f93cea",
   "metadata": {},
   "outputs": [
    {
     "name": "stdout",
     "output_type": "stream",
     "text": [
      "[1706, 11970, 11808, 4294, 82380, 6915, 12620, 16622, 27367, 5546]\n",
      "18122\n",
      "[2588, 5735, 13065, 6357, 15552, 2216, 8048, 24708, 7020, 11514]\n",
      "9680\n",
      "[690311, 308111, 1991020, 320, 2306, 3379, 15101, 1790, 1293, 2158]\n",
      "301578\n",
      "[5531, 37306, 10432, 177, 100, 411, 98, 968, 158, 242]\n",
      "5542\n",
      "[290, 593, 927, 5698, 803, 10040, 1064, 1952, 3703, 1433]\n",
      "2650\n",
      "[18122, 9680, 301578, 5542, 2650]\n"
     ]
    }
   ],
   "source": [
    "top_5_handles=['https://www.instagram.com/yourfoodlab/', 'https://www.instagram.com/dilsefoodie/', 'https://www.instagram.com/food_founder_/', 'https://www.instagram.com/foodtalkindia/', 'https://www.instagram.com/food_lunatic/']\n",
    "top_5_followers=[2722058,1167733,384611,310013,206006]\n",
    "# empty list to store the average of likes of top 10 posts of every user\n",
    "average_of_likes=[]\n",
    "for handle in top_5_handles:\n",
    "    #to opne user's profile\n",
    "    driver.get(handle)\n",
    "    #to store the likes of top 10 posts of each user\n",
    "    posts10_like=[]\n",
    "    time.sleep(3)\n",
    "    #scroll to get the post\n",
    "    driver.execute_script('window.scrollBy(0, 2000);')\n",
    "    time.sleep(2)\n",
    "    #locating post of the user\n",
    "    posts = driver.find_elements(By.XPATH, '//article[@class = \"x1iyjqo2\"]/div/div/div/div/a')\n",
    "    #run loop 10 times to get 10 posts\n",
    "    for i in range(10):\n",
    "        time.sleep(2)\n",
    "        posts[i].click()\n",
    "        wait=WebDriverWait(driver,10)\n",
    "        #to locate the likes of the post\n",
    "        like_tag= wait.until(EC.presence_of_element_located((By.XPATH,\"//div[starts-with(@class,'x9f619')]/span/a/span/span\")))\n",
    "        #extract the likes and replace , \n",
    "        post_like=like_tag.get_attribute('innerHTML').replace(\",\",'')\n",
    "        time.sleep(3)\n",
    "        #append the int value of post_like to posts10_like\n",
    "        posts10_like.append(int(post_like))\n",
    "        time.sleep(2)\n",
    "        driver.back()\n",
    "    print(posts10_like)\n",
    "    #to find the average of the likes\n",
    "    sum=0    \n",
    "    for i in posts10_like:\n",
    "        sum+=i\n",
    "    average= sum//10\n",
    "    average_of_likes.append(average)\n",
    "    print(average)\n",
    "print(average_of_likes)    "
   ]
  },
  {
   "cell_type": "code",
   "execution_count": 21,
   "id": "a3f7fc8e",
   "metadata": {},
   "outputs": [
    {
     "name": "stdout",
     "output_type": "stream",
     "text": [
      "[150, 120, 1, 55, 77]\n"
     ]
    }
   ],
   "source": [
    "#to find the followers:average likes ratio for each user\n",
    "ratios=[]\n",
    "for i in range(5):\n",
    "    ratios.append(top_5_followers[i]//average_of_likes[i])\n",
    "print(ratios)    "
   ]
  },
  {
   "cell_type": "code",
   "execution_count": 23,
   "id": "a5b7312d",
   "metadata": {},
   "outputs": [
    {
     "data": {
      "image/png": "[encoded data removed]",
      "text/plain": [
       "<Figure size 640x480 with 1 Axes>"
      ]
     },
     "metadata": {},
     "output_type": "display_data"
    }
   ],
   "source": [
    "#to draw bar graph of above info\n",
    "usernames=['yourfoodlab','dilsefoodie','food_founder_','foodtalkindia','food_lunatic']\n",
    "bar_colors = ['tab:red', 'tab:blue', 'tab:orange', 'tab:green','tab:red']\n",
    "plt.bar(usernames,ratios,color=bar_colors)\n",
    "plt.xlabel('Usernames')\n",
    "plt.ylabel('Ratio of followers and average of likes')\n",
    "plt.title('The average followers:like ratio of each handle')\n",
    "plt.grid()\n",
    "plt.show()"
   ]
  }
 ],
 "metadata": {
  "kernelspec": {
   "display_name": "Python 3 (ipykernel)",
   "language": "python",
   "name": "python3"
  },
  "language_info": {
   "codemirror_mode": {
    "name": "ipython",
    "version": 3
   },
   "file_extension": ".py",
   "mimetype": "text/x-python",
   "name": "python",
   "nbconvert_exporter": "python",
   "pygments_lexer": "ipython3",
   "version": "3.11.5"
  }
 },
 "nbformat": 4,
 "nbformat_minor": 5
}
